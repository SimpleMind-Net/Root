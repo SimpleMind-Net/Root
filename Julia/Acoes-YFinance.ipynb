{
  "cells": [
    {
      "cell_type": "code",
      "execution_count": null,
      "metadata": {
        "collapsed": true,
        "execution": {
          "iopub.execute_input": "2022-11-15T19:47:14.609Z",
          "iopub.status.busy": "2022-11-15T19:47:13.719Z",
          "iopub.status.idle": "2022-11-15T19:47:38.241Z"
        },
        "jupyter": {
          "outputs_hidden": false,
          "source_hidden": false
        },
        "nteract": {
          "transient": {
            "deleting": false
          }
        }
      },
      "outputs": [],
      "source": [
        "using MarketData, Dates, Plots, Distributions, NonparametricRegression\n",
        "\n",
        "getQuotes(stock, dias=260) = yahoo(stock, YahooOpt(period1 = now() - Day(dias) )).AdjClose"
      ]
    },
    {
      "cell_type": "code",
      "execution_count": null,
      "metadata": {
        "collapsed": true,
        "execution": {
          "iopub.execute_input": "2022-11-15T21:04:03.319Z",
          "iopub.status.busy": "2022-11-15T21:04:03.310Z",
          "iopub.status.idle": "2022-11-15T21:04:03.760Z"
        },
        "jupyter": {
          "outputs_hidden": false,
          "source_hidden": false
        },
        "nteract": {
          "transient": {
            "deleting": false
          }
        }
      },
      "outputs": [],
      "source": [
        "stock = \"GOAU4.SA\"\n",
        "s = getQuotes(stock) |> values |> skipmissing |> collect"
      ]
    },
    {
      "cell_type": "code",
      "execution_count": null,
      "metadata": {
        "collapsed": true,
        "execution": {
          "iopub.execute_input": "2022-11-15T21:04:07.785Z",
          "iopub.status.busy": "2022-11-15T21:04:07.778Z",
          "iopub.status.idle": "2022-11-15T21:04:07.891Z"
        },
        "jupyter": {
          "outputs_hidden": false,
          "source_hidden": false
        },
        "nteract": {
          "transient": {
            "deleting": false
          }
        }
      },
      "outputs": [],
      "source": [
        "# Ajuste da série histórica dos preços\n",
        "mode(s) |> string |> x -> println(\"Moda do preço: $x\")\n",
        "\n",
        "k = npregress(1:length(s), s, hLB=11)\n",
        "\n",
        "if k[end-2] < k[end-1] > k[end]\n",
        "    println(\"Cai, virou topo\")\n",
        "elseif k[end-2] > k[end-1] < k[end]\n",
        "    println(\"Sobe, virou fundo\")\n",
        "elseif k[end-1] < k[end]\n",
        "    println(\"Sobe\")\n",
        "else\n",
        "    println(\"Cai\")\n",
        "end\n",
        "plot(s, label = replace(stock, \".SA\" => \"\"))\n",
        "plot!(k, color=:red, lw=2, label=\"Kernel\")\n",
        "#savefig(\"serie-kernel.png\")"
      ]
    },
    {
      "cell_type": "code",
      "execution_count": null,
      "metadata": {
        "collapsed": true,
        "execution": {
          "iopub.execute_input": "2022-11-15T21:04:18.763Z",
          "iopub.status.busy": "2022-11-15T21:04:18.752Z",
          "iopub.status.idle": "2022-11-15T21:04:18.997Z"
        },
        "jupyter": {
          "outputs_hidden": false,
          "source_hidden": false
        },
        "nteract": {
          "transient": {
            "deleting": false
          }
        }
      },
      "outputs": [],
      "source": [
        "# Análise da dispersão dos retornos diários\n",
        "retornos = (s[2:end] - s[1:end-1]) ./ s[1:end-1]\n",
        "histogram(retornos, bins=50, label=\"Retornos\")\n",
        "\n",
        "# Ajusta o histograma a uma distribuição Kernel Normal\n",
        "n = length(retornos)\n",
        "Sigma = std(retornos)\n",
        "h = 1.06 * Sigma / n^(1/5) \n",
        "K(x) = exp(-x^2 / 2) / sqrt(2pi)\n",
        "Kh(x) = K(x/h) / h\n",
        "f(x) = sum( Kh(x-xi) for xi in retornos) / n\n",
        "plot!(f, c=:red, lw=3, label=\"Kernel\")\n",
        "#savefig(\"histo-retornos-kernel.png\")"
      ]
    }
  ],
  "metadata": {
    "kernel_info": {
      "name": "julia-1.8"
    },
    "kernelspec": {
      "argv": [
        "C:\\Users\\tito\\AppData\\Local\\Programs\\Julia-1.7.3\\bin\\julia.exe",
        "-i",
        "--color=yes",
        "--project=@.",
        "C:\\Users\\tito\\.julia\\packages\\IJulia\\AQu2H\\src\\kernel.jl",
        "{connection_file}"
      ],
      "display_name": "Julia 1.8.0",
      "env": {},
      "interrupt_mode": "message",
      "language": "julia",
      "name": "julia-1.8"
    },
    "language_info": {
      "file_extension": ".jl",
      "mimetype": "application/julia",
      "name": "julia",
      "version": "1.8.0"
    },
    "nteract": {
      "version": "0.28.0"
    }
  },
  "nbformat": 4,
  "nbformat_minor": 0
}
