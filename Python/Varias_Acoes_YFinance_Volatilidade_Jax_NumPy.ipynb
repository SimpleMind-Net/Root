{
  "cells": [
    {
      "cell_type": "markdown",
      "metadata": {
        "id": "view-in-github",
        "colab_type": "text"
      },
      "source": [
        "<a href=\"https://colab.research.google.com/github/SimpleMind-Net/Root/blob/master/Varias_Acoes_YFinance_Volatilidade_Jax_NumPy.ipynb\" target=\"_parent\"><img src=\"https://colab.research.google.com/assets/colab-badge.svg\" alt=\"Open In Colab\"/></a>"
      ]
    },
    {
      "cell_type": "code",
      "execution_count": null,
      "metadata": {
        "id": "lIYdn1woOS1n"
      },
      "outputs": [],
      "source": [
        "import jax\n",
        "import jax.numpy as jnp\n",
        "from   yfinance import download\n",
        "from   statsmodels.nonparametric.kernel_regression import KernelReg\n",
        "from   babel.numbers import format_decimal, format_percent\n",
        "from   pandas import DataFrame"
      ]
    },
    {
      "cell_type": "code",
      "source": [
        "stocks = ['5GTK11','A1AP34','A1DM34','A1EE34','A1ES34','A1LB34','A1LL34','A1LN34','A1MD34','A1MT34','A1NE34','A1NS34','A1PH34','A1RE34','A1TT34','A1UT34','A1YX34','A1ZN34','A2FY34','A2MC34','A2RE34','A2RR34','AALL34','AALR3','AAPL34','AAZQ11','ABBV34','ABCB10','ABCB4','ABCP11','ABEV3','ABTT34','ABUD34','ACNB34','ACWI11','ADBE34','AERI3','AESB3','AFHI11','AFLT3','AGRI11','AGRO3','AGXY3','AIEC11','AIRB34','ALLD3','ALPA3','ALPA4','ALPK3','ALSO3','ALUG11','ALUP11','ALUP3','ALUP4','ALZM11','ALZR11','AMAR3','AMBP3','AMER3','AMZO34','ANIM3','APER3','APTO11','APTV34','APXM11','ARML3','ARMT34','ARRI11','ARXD11','ARZZ3','ASAI3','ASML34','ASMT11','ATMP3','ATOM3','ATTB34','ATVI34','AURA33','AURE3','AVGO34','AVLL3','AXPB34','AZEV3','AZEV4','AZOI34','AZUL4','B1CS34','B1IL34','B1NT34','B1PP34','B1SA34','B1SX34','B1TI34','B1WA34','B2YN34','B3SA3','BAAX39','BABA34','BAER39','BAHI3','BALM3','BALM4','BARI11','BAZA3','BBAS3','BBDC3','BBDC4','BBFI11B','BBFO11','BBGO11','BBOI11','BBOV11','BBPO11','BBRC11','BBSD11','BBSE3','BCFF11','BCHI39','BCIA11','BCIR39','BCLO39','BCRI11','BCSA34','BDIF11','BDIV11','BDOM11','BDVY39','BEEF3','BEEM39','BEES3','BEES4','BEFG39','BEGD39','BEGE39','BEGU39','BEMV39','BERK34','BEWJ39','BEWU39','BEWY39','BFXI39','BGIP3','BGIP4','BGRT39','BGWH39','BHER39','BIAU39','BIBB39','BIDB11','BIDU34','BIEM39','BIET39','BIEU39','BIJR39','BILF39','BIME11','BIOM3','BITH11','BITO39','BIVB39','BIVE39','BIVW39','BIXJ39','BIYE39','BIYF39','BIYT39','BIYW39','BKNG34','BLAK34','BLAU3','BLBT39','BLCA11','BLMC11','BLMG11','BLMR11','BLOK11','BLQD39','BLUR11','BMEB4','BMGB4','BMIN4','BMKS3','BMLC11','BMMT11','BMOB3','BNBR3','BNDX11','BNFS11','BOAC34','BOBR4','BODB11','BOEI34','BONY34','BOTZ39','BOVA11','BOVB11','BOVS11','BOVV11','BOVX11','BOXP34','BPAC11','BPAC3','BPAC5','BPAN4','BPFF11','BPML11','BPRP11','BQUA39','BRAP3','BRAP4','BRAX11','BRBI11','BRCO11','BRCR11','BREW11','BRFS3','BRGE11','BRGE12','BRGE7','BRGE8','BRIT3','BRIV4','BRKM3','BRKM5','BRKM6','BROF11','BRPR3','BRSR3','BRSR6','BRZP11','BSIL39','BSLI4','BTAG11','BTAL11','BTCI11','BTEK11','BTLG11','BTLT39','BTRA11','BTSI11','BURA39','BZLI11','BZRO39','C1BS34','C1CI34','C1CL34','C1FI34','C1GP34','C1MG34','C1NC34','C1NS34','C1TA34','C2AC34','C2HP34','C2OI34','C2OL34','C2RW34','CALI3','CAMB3','CAML3','CAPH34','CARE11','CASH3','CATP34','CBAV3','CBOP11','CCME11','CCRF11','CCRO3','CDII11','CEAB3','CEBR3','CEBR5','CEBR6','CEDO3','CEDO4','CEEB3','CEOC11','CGAS3','CGAS5','CGRA3','CGRA4','CHCM34','CHVX34','CIEL3','CLOV34','CLSA3','CLSC3','CLSC4','CMCS34','CMDB11','CMIG3','CMIG4','CMIN3','COCA34','COCE5','COGN3','COLG34','COPH34','CORN11','COTY34','COWC34','CPFE3','CPFF11','CPLE11','CPLE3','CPLE5','CPLE6','CPRL34','CPSH11','CPTI11','CPTR11','CPTS11','CRAA11','CRFB3','CRFF11','CRIP34','CRIV3','CRPG5','CRPG6','CRPT11','CSAN3','CSCO34','CSED3','CSMG3','CSNA3','CSRN3','CSUD3','CSXC34','CTGP34','CTNM4','CTSA3','CTSA4','CTXT11','CURY3','CVBI11','CVCB3','CVSH34','CXAG11','CXCE11B','CXCI11','CXCO11','CXRI11','CXSE3','CXTL11','CYCR11','CYRE3','D1DG34','D1EL34','D1EX34','D1IS34','D1LR34','D1OC34','D1OW34','D1VN34','D2KN34','DAMT11B','DASA3','DBAG34','DCRA11','DDNB34','DEAI34','DEEC34','DEFI11','DEOP34','DESK3','DEVA11','DEXP3','DEXP4','DGCO34','DHER34','DIRR3','DISB34','DIVO11','DMVF3','DNAI11','DOHL4','DOTZ3','DRIT11B','DVFF11','DXCO3','E1CO34','E1DU34','E1QN34','E1RI34','E1WL34','E1XC34','E1XR34','E2EF34','E2NP34','E2TS34','E2XP34','EAIN34','EALT3','EALT4','EBAY34','ECOR3','EDFO11B','EDGA11','EGAF11','EGIE3','EGYR11','ELAS11','ELCI34','ELET3','ELET6','ELMD3','EMAE4','EMBR3','ENAT3','ENDD11','ENEV3','ENGI11','ENGI3','ENGI4','ENJU3','EPAR3','EQIR11','EQIX34','EQPA3','EQTL3','ERPA11','ESGB11','ESGD11','ESGE11','ESGU11','ESPA3','ETER3','ETHE11','EUCA3','EUCA4','EURO11','EURP11','EVBI11','EVEN3','EXCO32','EXXO34','EZTC3','F1MC34','F1SL34','F1TV34','F2NV34','F2RT34','FAED11','FAMB11B','FASL34','FATN11','FCFL11','FCXO34','FDMO34','FESA3','FESA4','FGAA11','FHER3','FIGS11','FIIB11','FIIP11B','FIND11','FIQE3','FIVN11','FLCR11','FLMA11','FLRP11','FLRY3','FNOR11','FOOD11','FOXC34','FPAB11','FRAS3','FRTA3','FSLR34','FSPM11','FVPQ11','FZDA11','G1DS34','G1FI34','G2DI33','GALG11','GAME11','GCRI11','GDBR34','GDXB39','GENB11','GEOO34','GEPA3','GEPA4','GFSA3','GGBR3','GGBR4','GGPS3','GGRC11','GLOG11','GMAT3','GMCO34','GOAU3','GOAU4','GOGL34','GOGL35','GOLD11','GOLL14','GOLL4','GOVE11','GPIV33','GPRO34','GRND3','GRWA11','GSFI11','GSGI34','GSHP3','GTWR11','GUAR3','GURU11','H1DB34','H1SB34','H1SI34','H1UM34','HAAA11','HABT11','HAGA3','HAGA4','HAPV3','HASH11','HBOR3','HBRE3','HBRH11','HBSA3','HCHG11','HCRA11','HCRI11','HCST11','HCTR11','HFOF11','HGAG11','HGBS11','HGCR11','HGFF11','HGIC11','HGLG11','HGPO11','HGRE11','HGRU11','HLOG11','HOFC11','HOME34','HOND34','HOOT4','HOSI11','HPDP11','HPQB34','HRDF11','HSAF11','HSLG11','HSML11','HSRE11','HTEK11','HTMX11','HUCG11','HUSC11','HYPE3','I1CE34','I1FF34','I1FO34','I1PC34','I1PG34','I1QY34','I1RP34','I1SR34','I1TW34','I2NV34','IAAG11','IAGR11','IBCR11','IBMB34','IBOB11','IDFI11','IDGR11','IFCM3','IFRA11','IGTI11','IGTI3','IGTI4','INBR32','INEP3','INEP4','INTB3','INTU34','IRBR3','IRDM11','IRIM11','ISUS11','ITIP11','ITIT11','ITLC34','ITSA3','ITSA4','ITUB3','ITUB4','IVVB11','J1WN34','JALL1','JALL3','JBSS3','JDCO34','JFEN3','JFLL11','JGPX11','JHSF3','JNJB34','JOGO11','JOPA3','JPMC34','JPPA11','JSAF11','JSLG3','JSRE11','JURO11','K1LA34','K1TC34','K2CG34','KCRE11','KEPL3','KEVE11','KFOF11','KHCB34','KISU11','KIVO11','KLBN11','KLBN3','KLBN4','KNCA11','KNCR11','KNHF11','KNHY11','KNIP11','KNRE11','KNRI11','KNSC11','KRSA3','L1CA34','L1EG34','L1MN34','L1RC34','L1UL34','L1YG34','L1YV34','LAND3','LASC11','LAVV3','LEVE3','LFTT11','LGCP11','LIFE11','LIGT3','LILY34','LJQQ3','LOGG3','LOGN3','LOWC34','LREN3','LSAG11','LUGG11','LUPA3','LVBI11','LVTC3','LWSA3','M1AA34','M1DB34','M1NS34','M1RN34','M1RO34','M1TA34','M1TC34','M1TT34','M1UF34','M2PW34','M2RT34','M2RV34','M2ST34','MACY34','MALL11','MANA11','MATB11','MATD3','MAXR11','MBLY3','MCCI11','MCHF11','MCHY11','MDIA3','MDNE3','MEAL3','MEGA3','MELI34','MELK3','META11','MFAI11','MFCR11','MFII11','MGEL4','MGHT11','MGLU3','MILL11','MILS3','MINT11','MLAS3','MMMC34','MNDL3','MNPR3','MOOO34','MORC11','MORE11','MOSC34','MOVI3','MRCK34','MRFG3','MRVE3','MSBR34','MSCD34','MSFT34','MTRE3','MTSA4','MULT3','MUTC34','MWET4','MXRF11','MYPK3','N1BI34','N1DA34','N1EM34','N1GG34','N1OW34','N1UE34','N1VO34','N1VS34','N2LY34','N2VC34','NASD11','NAVT11','NCHB11','NCRA11','NCRI11','NEOE3','NETE34','NEWL11','NEWU11','NEXP3','NEXT34','NFLX34','NFTS11','NGRD3','NIKE34','NINJ3','NOKI34','NSLU11','NTCO3','NUTR3','NVDC34','NVHO11','O1KE34','O1MC34','O2HI34','O2NS34','OCRE11','ODPV3','OFSA3','OGHY11','OGIN11','OIAG11','OIBR3','OIBR4','ONCO3','ONEF11','OPCT3','ORCL34','ORVR3','OSXB3','OUFF11','OUJP11','OULG11','OURE11','OXYP34','P1DD34','P1EA34','P1GR34','P1KX34','P1LD34','P2AN34','P2AT34','P2CF34','P2LT34','PABY11','PAGS34','PATC11','PATL11','PCAR3','PDGR3','PDTC3','PEMA11','PEPB34','PETR3','PETR4','PETZ3','PFIN11','PFIZ34','PFRM3','PGCO34','PGMN3','PIBB11','PICE11','PINE4','PLCA11','PLCR11','PLPL3','PMAM3','PNVL3','POMO3','POMO4','PORD11','PORT3','POSI3','PPEI11','PPLA11','PQAG11','PQDP11','PRIO3','PRNR3','PRSN11B','PRSV11','PSSA3','PSVM11','PTBL3','PTNT3','PTNT4','PVBI11','PYPL34','QAGR11','QAMI11','QBTC11','QCOM34','QDFI11','QETH11','QUAL3','R1DY34','R1EG34','R1IN34','R1JF34','R1KU34','R2BL34','RADL3','RAIL3','RAIZ4','RANI3','RAPT3','RAPT4','RBED11','RBFF11','RBHG11','RBHY11','RBIF11','RBIR11','RBOP11','RBRD11','RBRF11','RBRL11','RBRP11','RBRR11','RBRS11','RBRX11','RBRY11','RBVA11','RBVO11','RCFA11','RCRB11','RCSL3','RCSL4','RDNI3','RDOR3','RECR11','RECT11','RECV3','RECX11','REDE3','REGN34','RELG11','RENT3','REVE11','RFOF11','RIGG34','RINV11','RIOT34','RNDP11','RNEW11','RNEW3','RNEW4','RNGO11','ROMI3','ROST34','ROXO34','RPAD3','RPMG3','RPRI11','RRCI11','RRRP3','RSID3','RSUL4','RURA11','RYTT34','RZAG11','RZAK11','RZTR11','S1HW34','S1KM34','S1LG34','S1MF34','S1NP34','S1PO34','S1RP34','S1TX34','S2EA34','S2ED34','S2GM34','S2HO34','S2NA34','S2QU34','S2TA34','S2UI34','SADI11','SANB11','SANB3','SANB4','SAPR11','SAPR3','SAPR4','SARE11','SBFG3','SBSP3','SBUB34','SCAR3','SCHW34','SCPF11','SCVB11','SEER3','SEQL3','SEQR11','SGPS3','SHOT11','SHOW3','SHPH11','SHUL4','SIMH3','SIMN34','SLBG34','SLCE3','SLED3','SLED4','SMAB11','SMAC11','SMAL11','SMFT3','SMTO3','SNAG11','SNCI11','SNEC34','SNFF11','SNID11','SNLG11','SNSY3','SNSY5','SOJA3','SOMA3','SPGI34','SPTW11','SPXI11','SPXS11','SQIA3','SRXM34','SSFO34','STBP3','STOC31','STZB34','SUZB3','SVAL11','SYNE3','T1AL34','T1EC34','T1MU34','T1OW34','T1RI34','T1SC34','T1SS34','T1TW34','T1WL34','T2DH34','T2ER34','T2TD34','TAEE11','TAEE3','TAEE4','TASA3','TASA4','TCSA3','TECB11','TECK11','TECN3','TEKA4','TELB3','TELB4','TEND3','TEPP11','TEXA34','TFCO4','TGAR11','TGMA3','TGTB34','TIMS3','TLNC34','TMCO34','TMOS34','TMPS11','TORD11','TOTS3','TPIS3','TRAD3','TRBL11','TRIG11','TRIS3','TRPL3','TRPL4','TRXF11','TSLA34','TSMC34','TSNF34','TTEN3','TUPY3','TXSA34','U1AL34','U1BE34','U1RI34','U2PS34','U2ST34','UBSG34','UCAS3','UGPA3','ULEV34','UNHH34','UNIP3','UNIP5','UNIP6','UPAC34','UPSS34','URET11','URPR11','USAL11','USBC34','USDB11','USIM3','USIM5','USSX34','USTK11','UTEC11','V1IP34','V1NO34','V1OD34','V1RS34','V2MW34','VALE3','VAMO3','VBBR3','VCJR11','VCRA11','VCRI11','VCRR11','VERZ34','VGHF11','VGIA11','VGIP11','VGIR11','VIFI11','VIIA3','VILG11','VINO11','VISA34','VISC11','VITT3','VIUR11','VIVA3','VIVR3','VIVT3','VLID3','VLOE34','VOTS11','VRTA11','VRTX34','VSHO11','VSLH11','VSTE3','VTLT11','VULC3','VVCO11','VVCR11','VVEO3','VVRI11','W1AB34','W1BD34','W1EC34','W1EL34','W1IX34','W1MC34','W1MG34','W2YF34','WALM34','WEB311','WEGE3','WEST3','WFCO34','WGBA34','WHGR11','WHRL3','WHRL4','WIZC3','WLMM4','WPLZ11','WRLD11','WSEC11','WTSP11B','WUNI34','XBOV11','XFIX11','XINA11','XPBR31','XPCA11','XPCI11','XPCM11','XPHT12','XPID11','XPIE11','XPIN11','XPLG11','XPML11','XPPR11','XPSF11','YDRO11','YDUQ3','Z1OM34','Z1TS34','Z2SC34','ZAMP3','ZAVI11']\n",
        "stocks = [stock + \".SA\" for stock in sorted(stocks)]"
      ],
      "metadata": {
        "id": "Kf5_jzYJF5-p"
      },
      "execution_count": null,
      "outputs": []
    },
    {
      "cell_type": "code",
      "source": [
        "df = download(stocks, period=\"100d\")[\"Adj Close\"]\n",
        "stockData = jnp.asarray(df[[stock for stock in stocks]]).T"
      ],
      "metadata": {
        "id": "drDGGkUpLC1g"
      },
      "execution_count": null,
      "outputs": []
    },
    {
      "cell_type": "code",
      "source": [
        "# Otimização: Este código otimizado usa operações de matriz em vez de loop for.\n",
        "# A função `map` aplica a função `calculate_values` a cada coluna da matriz `stockData`, o que é equivalente ao loop for original.\n",
        "# Como a função é aplicada a cada coluna simultaneamente, o código é executado mais rapidamente.\n",
        "\n",
        "def calculate_values(col_values, col_index):\n",
        "   kernel_est  = KernelReg(endog=col_values, exog=jnp.arange(col_values.shape[0]) + 1, var_type='c', bw=[20]).fit()[0]\n",
        "   kernel_diff = jnp.diff(kernel_est)\n",
        "   trend_type        = \"Sobe\" if kernel_diff[-1] > 0 else \"Cai\"\n",
        "   if trend_type    == 'Sobe':\n",
        "       trend_type    = 'Momento' if kernel_diff[-1] - kernel_diff[-2] > 0 else 'Sobe'\n",
        "       stockData_cp  = col_values[-15:]\n",
        "       kernel_est_cp = KernelReg(endog=stockData_cp, exog=jnp.arange(stockData_cp.shape[0]), var_type='c', bw=[11]).fit()[0]\n",
        "       log_returns   = jnp.log(stockData_cp / jnp.roll(stockData_cp, shift=1))[1:]\n",
        "       volatility    = jnp.std(log_returns) * jnp.sqrt(len(log_returns))\n",
        "       estim_inf     = jnp.multiply(kernel_est_cp[-1], (1 - volatility / 1.75))\n",
        "       estim_sup     = jnp.multiply(kernel_est_cp[-1], (1 + volatility / 1.75))\n",
        "\n",
        "       return [\n",
        "           stocks[col_index][:-3],\n",
        "           trend_type,\n",
        "           format_decimal(kernel_est_cp[-1], locale=\"pt_BR\"),\n",
        "           format_percent(volatility, locale=\"pt_BR\"),\n",
        "           format_decimal(estim_inf, locale=\"pt_BR\"),\n",
        "           format_decimal(estim_sup, locale=\"pt_BR\"),\n",
        "       ]\n",
        "\n",
        "results = map(calculate_values, stockData, range(stockData.shape[0]))\n",
        "results = [result for result in results if result is not None]"
      ],
      "metadata": {
        "id": "F4rTtNp2h2oe"
      },
      "execution_count": null,
      "outputs": []
    },
    {
      "cell_type": "code",
      "source": [
        "cabecalho = ['Código', 'Trend Type', 'Regressão', 'Volatilidade', 'Estimativa Inferior','Estimativa Superior']\n",
        "print(DataFrame(sorted(results), columns=cabecalho).to_csv(index=False, sep='\\t'))"
      ],
      "metadata": {
        "id": "j2DonQVwm7u6"
      },
      "execution_count": null,
      "outputs": []
    }
  ],
  "metadata": {
    "colab": {
      "provenance": [],
      "gpuType": "T4",
      "include_colab_link": true
    },
    "kernelspec": {
      "display_name": "Python 3",
      "name": "python3"
    },
    "accelerator": "GPU"
  },
  "nbformat": 4,
  "nbformat_minor": 0
}
